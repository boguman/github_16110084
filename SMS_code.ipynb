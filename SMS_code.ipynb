{
 "cells": [
  {
   "cell_type": "code",
   "execution_count": null,
   "id": "f51b4e40",
   "metadata": {},
   "outputs": [
    {
     "name": "stdout",
     "output_type": "stream",
     "text": [
      "0\n",
      "0\n",
      "0\n",
      "1\n",
      "메세지 전송 : 2021-11-30 12:27:58.598645\n"
     ]
    }
   ],
   "source": [
    "import datetime\n",
    "from twilio.rest import Client\n",
    "\n",
    "now = datetime.datetime.now()\n",
    "\n",
    "def mesg():\n",
    "    account_sid = 'AC4d43aa42bcd517487a133de0ba3e8ed3'\n",
    "    auth_token = 'bb5a2f4f20f83942a162505d095eff90'\n",
    "    client = Client(account_sid, auth_token)\n",
    "\n",
    "    message = client.messages \\\n",
    "                .create(\n",
    "                  body=\"우편이 도착하였습니다.\", #메세지 내용\n",
    "                  from_='+12055286335',          #송신 번호\n",
    "                  to='+821092071520'             #수신 번호\n",
    "                )\n",
    "\n",
    "\n",
    "while True:\n",
    "    sensor_input = int(input())\n",
    "    \n",
    "    if sensor_input == 1:\n",
    "        mesg()\n",
    "        print('메세지 전송 :',now)\n",
    "        \n",
    "    if sensor_input == 0:\n",
    "        continue\n",
    "    \n",
    "    if sensor_input == 9:\n",
    "        break\n",
    "\n",
    "print('end')"
   ]
  },
  {
   "cell_type": "code",
   "execution_count": null,
   "id": "8ea824f0",
   "metadata": {},
   "outputs": [],
   "source": []
  }
 ],
 "metadata": {
  "kernelspec": {
   "display_name": "Python 3",
   "language": "python",
   "name": "python3"
  },
  "language_info": {
   "codemirror_mode": {
    "name": "ipython",
    "version": 3
   },
   "file_extension": ".py",
   "mimetype": "text/x-python",
   "name": "python",
   "nbconvert_exporter": "python",
   "pygments_lexer": "ipython3",
   "version": "3.8.8"
  }
 },
 "nbformat": 4,
 "nbformat_minor": 5
}
