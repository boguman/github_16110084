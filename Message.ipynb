{
 "cells": [
  {
   "cell_type": "markdown",
   "id": "00419df6",
   "metadata": {},
   "source": [
    "SMS code"
   ]
  },
  {
   "cell_type": "code",
   "execution_count": null,
   "id": "d9205f39",
   "metadata": {},
   "outputs": [
    {
     "name": "stdout",
     "output_type": "stream",
     "text": [
      "0\n",
      "\n",
      "0\n",
      "\n",
      "0\n",
      "\n",
      "1\n",
      "\n",
      "메세지 전송 : 2021-12-07 13:01:47.698948\n",
      "0\n",
      "\n",
      "0\n",
      "\n",
      "0\n",
      "\n",
      "0\n",
      "\n",
      "0\n",
      "\n",
      "0\n",
      "\n",
      "0\n",
      "\n",
      "0\n",
      "\n",
      "0\n",
      "\n",
      "0\n",
      "\n",
      "0\n",
      "\n",
      "0\n",
      "\n",
      "0\n",
      "\n",
      "0\n",
      "\n",
      "0\n",
      "\n",
      "0\n",
      "\n",
      "1\n",
      "\n",
      "메세지 전송 : 2021-12-07 13:01:47.698948\n",
      "1\n",
      "\n",
      "메세지 전송 : 2021-12-07 13:01:47.698948\n",
      "1\n",
      "\n",
      "메세지 전송 : 2021-12-07 13:01:47.698948\n"
     ]
    }
   ],
   "source": [
    "import datetime\n",
    "from twilio.rest import Client\n",
    "import time\n",
    "import serial\n",
    "\n",
    "now = datetime.datetime.now()\n",
    "\n",
    "account_sid = 'account sid입력'\n",
    "auth_token = 'auth token입력'\n",
    "client = Client(account_sid, auth_token)\n",
    "\n",
    "ser = serial.Serial('COM7', 9600)\n",
    "\n",
    "def send_msge():\n",
    "    \n",
    "    message = client.messages \\\n",
    "                .create(\n",
    "                  body=\"우편이 도착하였습니다.\", #메세지 내용\n",
    "                  from_='송신번호입력',          #송신 번호\n",
    "                  to='수신번호입력'             #수신 번호\n",
    "                )\n",
    "while True:\n",
    "  line = ser.readline().decode(\"utf-8\")\n",
    "  print(line)\n",
    "  if line[0] == '1' :\n",
    "    send_msge()\n",
    "    print('메세지 전송 :',now)\n",
    "    time.sleep(30)"
   ]
  },
  {
   "cell_type": "code",
   "execution_count": null,
   "id": "1a520f09",
   "metadata": {},
   "outputs": [],
   "source": []
  },
  {
   "cell_type": "code",
   "execution_count": null,
   "id": "cdc8e5bd",
   "metadata": {},
   "outputs": [],
   "source": []
  }
 ],
 "metadata": {
  "kernelspec": {
   "display_name": "Python 3",
   "language": "python",
   "name": "python3"
  },
  "language_info": {
   "codemirror_mode": {
    "name": "ipython",
    "version": 3
   },
   "file_extension": ".py",
   "mimetype": "text/x-python",
   "name": "python",
   "nbconvert_exporter": "python",
   "pygments_lexer": "ipython3",
   "version": "3.8.8"
  }
 },
 "nbformat": 4,
 "nbformat_minor": 5
}
